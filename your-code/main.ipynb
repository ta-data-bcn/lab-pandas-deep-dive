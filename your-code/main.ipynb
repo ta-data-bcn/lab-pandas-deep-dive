{
 "cells": [
  {
   "cell_type": "markdown",
   "metadata": {},
   "source": [
    "# Lab | Pandas Deep-Dive"
   ]
  },
  {
   "cell_type": "markdown",
   "metadata": {},
   "source": [
    "### 1. Import Pandas package under the alias pd and Numpy under the alias np"
   ]
  },
  {
   "cell_type": "code",
   "execution_count": 37,
   "metadata": {},
   "outputs": [],
   "source": [
    "import pandas as pd\n",
    "import numpy as np"
   ]
  },
  {
   "cell_type": "markdown",
   "metadata": {},
   "source": [
    "### 2. Define a variable called `path` that contains the path to the csv file you downloaded. "
   ]
  },
  {
   "cell_type": "code",
   "execution_count": 38,
   "metadata": {},
   "outputs": [],
   "source": [
    "path = '/Users/anna/data/apple_store.csv'"
   ]
  },
  {
   "cell_type": "markdown",
   "metadata": {},
   "source": [
    "### 3. Using the Pandas `read_csv()` method, import the csv file at the path above. \n",
    "\n",
    "Assign the returned value to a variable called `data`.\n",
    "\n",
    "Note: you can omit the `sep` parameter for `read_csv()` because the csv file uses the default separator of \",\"."
   ]
  },
  {
   "cell_type": "code",
   "execution_count": 39,
   "metadata": {},
   "outputs": [],
   "source": [
    "data = pd.read_csv(path)"
   ]
  },
  {
   "cell_type": "markdown",
   "metadata": {},
   "source": [
    "### 4. Print the first 5 rows of `data` to see what the data look like.\n",
    "\n",
    "A data analyst usually does this to have a general understanding about what the data look like before digging deep."
   ]
  },
  {
   "cell_type": "code",
   "execution_count": 40,
   "metadata": {},
   "outputs": [
    {
     "data": {
      "text/html": [
       "<div>\n",
       "<style scoped>\n",
       "    .dataframe tbody tr th:only-of-type {\n",
       "        vertical-align: middle;\n",
       "    }\n",
       "\n",
       "    .dataframe tbody tr th {\n",
       "        vertical-align: top;\n",
       "    }\n",
       "\n",
       "    .dataframe thead th {\n",
       "        text-align: right;\n",
       "    }\n",
       "</style>\n",
       "<table border=\"1\" class=\"dataframe\">\n",
       "  <thead>\n",
       "    <tr style=\"text-align: right;\">\n",
       "      <th></th>\n",
       "      <th>id</th>\n",
       "      <th>track_name</th>\n",
       "      <th>size_bytes</th>\n",
       "      <th>price</th>\n",
       "      <th>rating_count_tot</th>\n",
       "      <th>rating_count_ver</th>\n",
       "      <th>user_rating</th>\n",
       "      <th>user_rating_ver</th>\n",
       "      <th>prime_genre</th>\n",
       "    </tr>\n",
       "  </thead>\n",
       "  <tbody>\n",
       "    <tr>\n",
       "      <th>0</th>\n",
       "      <td>281656475</td>\n",
       "      <td>PAC-MAN Premium</td>\n",
       "      <td>100788224</td>\n",
       "      <td>3.99</td>\n",
       "      <td>21292</td>\n",
       "      <td>26</td>\n",
       "      <td>4.0</td>\n",
       "      <td>4.5</td>\n",
       "      <td>Games</td>\n",
       "    </tr>\n",
       "    <tr>\n",
       "      <th>1</th>\n",
       "      <td>281796108</td>\n",
       "      <td>Evernote - stay organized</td>\n",
       "      <td>158578688</td>\n",
       "      <td>0.00</td>\n",
       "      <td>161065</td>\n",
       "      <td>26</td>\n",
       "      <td>4.0</td>\n",
       "      <td>3.5</td>\n",
       "      <td>Productivity</td>\n",
       "    </tr>\n",
       "    <tr>\n",
       "      <th>2</th>\n",
       "      <td>281940292</td>\n",
       "      <td>WeatherBug - Local Weather, Radar, Maps, Alerts</td>\n",
       "      <td>100524032</td>\n",
       "      <td>0.00</td>\n",
       "      <td>188583</td>\n",
       "      <td>2822</td>\n",
       "      <td>3.5</td>\n",
       "      <td>4.5</td>\n",
       "      <td>Weather</td>\n",
       "    </tr>\n",
       "    <tr>\n",
       "      <th>3</th>\n",
       "      <td>282614216</td>\n",
       "      <td>eBay: Best App to Buy, Sell, Save! Online Shop...</td>\n",
       "      <td>128512000</td>\n",
       "      <td>0.00</td>\n",
       "      <td>262241</td>\n",
       "      <td>649</td>\n",
       "      <td>4.0</td>\n",
       "      <td>4.5</td>\n",
       "      <td>Shopping</td>\n",
       "    </tr>\n",
       "    <tr>\n",
       "      <th>4</th>\n",
       "      <td>282935706</td>\n",
       "      <td>Bible</td>\n",
       "      <td>92774400</td>\n",
       "      <td>0.00</td>\n",
       "      <td>985920</td>\n",
       "      <td>5320</td>\n",
       "      <td>4.5</td>\n",
       "      <td>5.0</td>\n",
       "      <td>Reference</td>\n",
       "    </tr>\n",
       "  </tbody>\n",
       "</table>\n",
       "</div>"
      ],
      "text/plain": [
       "          id                                         track_name  size_bytes  \\\n",
       "0  281656475                                    PAC-MAN Premium   100788224   \n",
       "1  281796108                          Evernote - stay organized   158578688   \n",
       "2  281940292    WeatherBug - Local Weather, Radar, Maps, Alerts   100524032   \n",
       "3  282614216  eBay: Best App to Buy, Sell, Save! Online Shop...   128512000   \n",
       "4  282935706                                              Bible    92774400   \n",
       "\n",
       "   price  rating_count_tot  rating_count_ver  user_rating  user_rating_ver  \\\n",
       "0   3.99             21292                26          4.0              4.5   \n",
       "1   0.00            161065                26          4.0              3.5   \n",
       "2   0.00            188583              2822          3.5              4.5   \n",
       "3   0.00            262241               649          4.0              4.5   \n",
       "4   0.00            985920              5320          4.5              5.0   \n",
       "\n",
       "    prime_genre  \n",
       "0         Games  \n",
       "1  Productivity  \n",
       "2       Weather  \n",
       "3      Shopping  \n",
       "4     Reference  "
      ]
     },
     "execution_count": 40,
     "metadata": {},
     "output_type": "execute_result"
    }
   ],
   "source": [
    "data.head(5)"
   ]
  },
  {
   "cell_type": "markdown",
   "metadata": {},
   "source": [
    "### 5. Print the summary (info) of the data."
   ]
  },
  {
   "cell_type": "code",
   "execution_count": 41,
   "metadata": {},
   "outputs": [
    {
     "data": {
      "text/plain": [
       "<bound method DataFrame.info of               id                                         track_name  \\\n",
       "0      281656475                                    PAC-MAN Premium   \n",
       "1      281796108                          Evernote - stay organized   \n",
       "2      281940292    WeatherBug - Local Weather, Radar, Maps, Alerts   \n",
       "3      282614216  eBay: Best App to Buy, Sell, Save! Online Shop...   \n",
       "4      282935706                                              Bible   \n",
       "5      283619399                                   Shanghai Mahjong   \n",
       "6      283646709             PayPal - Send and request money safely   \n",
       "7      284035177                            Pandora - Music & Radio   \n",
       "8      284666222                        PCalc - The Best Calculator   \n",
       "9      284736660                                        Ms. PAC-MAN   \n",
       "10     284791396                          Solitaire by MobilityWare   \n",
       "11     284815117                                   SCRABBLE Premium   \n",
       "12     284815942               Google – Search made just for mobile   \n",
       "13     284847138                   Bank of America - Mobile Banking   \n",
       "14     284862767                                           FreeCell   \n",
       "15     284876795             TripAdvisor Hotels Flights Restaurants   \n",
       "16     284882215                                           Facebook   \n",
       "17     284910350     Yelp - Nearby Restaurants, Shopping & Services   \n",
       "18     284993459  Shazam - Discover music, artists, videos & lyrics   \n",
       "19     285005463                      Crash Bandicoot Nitro Kart 3D   \n",
       "20     285946052                                             iQuran   \n",
       "21     285994151                                        :) Sudoku +   \n",
       "22     286058814    Yahoo Sports - Teams, Scores, News & Highlights   \n",
       "23     286070473                          Mileage Log | Fahrtenbuch   \n",
       "24     286799607                        Cleartune - Chromatic Tuner   \n",
       "25     286906691          Lifesum – Inspiring healthy lifestyle app   \n",
       "26     286911400                                           Hangman.   \n",
       "27     288113403      iTranslate - Language Translator & Dictionary   \n",
       "28     288120394                                           TouchOSC   \n",
       "29     288419283                                         RadarScope   \n",
       "...          ...                                                ...   \n",
       "7167  1182265441                      脱出ゲーム　わたしをみつけて　-おじいさんとわたしの物語-   \n",
       "7168  1182331762                      Escape from the frigid Igloo.   \n",
       "7169  1182568288        Talking Santa - Video santa claus calls you   \n",
       "7170  1183234072                                          CTFxCmoji   \n",
       "7171  1183260922                    Room Escape Game - Santa's Room   \n",
       "7172  1183548754                               Rescue the Enchanter   \n",
       "7173  1183709176                                 My Diary - 你的名字非官方   \n",
       "7174  1183856228  VR Thrills: Roller Coaster 360 (Google Cardboard)   \n",
       "7175  1183986102   Santa Kids Hair Salon - Christmas Makeover Games   \n",
       "7176  1184711626                                 Human Juggling Cup   \n",
       "7177  1184800011                           Again - room escape game   \n",
       "7178  1185209084                                  Saloons Unleashed   \n",
       "7179  1185328193             Fam — Group video calling for iMessage   \n",
       "7180  1185365336                   Laurie Hernandez the Human Emoji   \n",
       "7181  1185428381                                               剑倚手游   \n",
       "7182  1185538497                                  camera for filter   \n",
       "7183  1185580782                                    Survivalcraft 2   \n",
       "7184  1185731859                                    剑客情缘-高爆率高掉落天天疯玩   \n",
       "7185  1185777521                                     问仙奇遇-新玩法新套装嗨到爆   \n",
       "7186  1186108496                 脱出ゲーム - 書道教室 -  \"漢字\"の謎に満ちた部屋からの 脱出   \n",
       "7187  1186126548                          Escape Game: illumination   \n",
       "7188  1186384912       Demolition Derby Virtual Reality (VR) Racing   \n",
       "7189  1187128255                         飞刀传奇-动作武侠热血江湖即时PK传奇（登录爆金装）   \n",
       "7190  1187279979                       Add-Ons Studio for Minecraft   \n",
       "7191  1187282363                         Plead the Fifth - The Game   \n",
       "7192  1187617475                                              Kubik   \n",
       "7193  1187682390                                  VR Roller-Coaster   \n",
       "7194  1187779532              Bret Michaels Emojis + Lyric Keyboard   \n",
       "7195  1187838770          VR Roller Coaster World - Virtual Reality   \n",
       "7196  1188375727                       Escape the Sweet Shop Series   \n",
       "\n",
       "      size_bytes  price  rating_count_tot  rating_count_ver  user_rating  \\\n",
       "0      100788224   3.99             21292                26          4.0   \n",
       "1      158578688   0.00            161065                26          4.0   \n",
       "2      100524032   0.00            188583              2822          3.5   \n",
       "3      128512000   0.00            262241               649          4.0   \n",
       "4       92774400   0.00            985920              5320          4.5   \n",
       "5       10485713   0.99              8253              5516          4.0   \n",
       "6      227795968   0.00            119487               879          4.0   \n",
       "7      130242560   0.00           1126879              3594          4.0   \n",
       "8       49250304   9.99              1117                 4          4.5   \n",
       "9       70023168   3.99              7885                40          4.0   \n",
       "10      49618944   4.99             76720              4017          4.5   \n",
       "11     227547136   7.99            105776               166          3.5   \n",
       "12     179979264   0.00            479440               203          3.5   \n",
       "13     160925696   0.00            119773              2336          3.5   \n",
       "14      55153664   4.99              6340               668          4.5   \n",
       "15     207907840   0.00             56194                87          4.0   \n",
       "16     389879808   0.00           2974676               212          3.5   \n",
       "17     167407616   0.00            223885              3726          4.0   \n",
       "18     147093504   0.00            402925               136          4.0   \n",
       "19      10735026   2.99             31456              4178          4.0   \n",
       "20      70707916   1.99              2929               966          4.5   \n",
       "21       6169600   2.99             11447               781          5.0   \n",
       "22     130583552   0.00            137951               131          4.0   \n",
       "23      71203840   5.99                 8                 0          4.5   \n",
       "24      11423008   3.99              3241               297          4.0   \n",
       "25     188017664   0.00              5795                12          3.5   \n",
       "26       4765696   0.00             42316               248          3.0   \n",
       "27     287933440   0.00            123215                25          3.5   \n",
       "28       4263936   4.99               782                 7          4.0   \n",
       "29     172772352   9.99              3449                23          4.0   \n",
       "...          ...    ...               ...               ...          ...   \n",
       "7167   177498112   0.00                 1                 1          1.0   \n",
       "7168    89188352   0.00                 3                 3          4.0   \n",
       "7169    32685056   2.99                 9                 3          3.0   \n",
       "7170    26077184   0.00                39                 4          5.0   \n",
       "7171   143346688   0.00                10                10          5.0   \n",
       "7172   242505728   3.99                55                29          4.5   \n",
       "7173    18164736   0.99                 0                 0          0.0   \n",
       "7174   169535488   0.00                14                 4          4.0   \n",
       "7175    64244736   0.00                41                19          4.5   \n",
       "7176   184324096   0.00                 0                 0          0.0   \n",
       "7177    33946624   0.00                11                 8          4.0   \n",
       "7178   327731200   0.99                 0                 0          0.0   \n",
       "7179   113382400   0.00               279                 5          3.5   \n",
       "7180    94008320   0.00                26                 3          5.0   \n",
       "7181   178160640   0.99                 0                 0          0.0   \n",
       "7182     9362432   0.00                 0                 0          0.0   \n",
       "7183    57349120   3.99               292               292          4.0   \n",
       "7184   171944960   0.00                 0                 0          0.0   \n",
       "7185   208026624   0.99                 0                 0          0.0   \n",
       "7186    85580800   0.00                 1                 1          2.0   \n",
       "7187    52342784   0.00                23                23          4.5   \n",
       "7188   168774656   0.00                18                18          4.0   \n",
       "7189   537462784   0.99                 0                 0          0.0   \n",
       "7190    22999040   2.99                97                97          3.0   \n",
       "7191    27853824   2.99                11                 0          4.0   \n",
       "7192   126644224   0.00               142                75          4.5   \n",
       "7193   120760320   0.00                30                30          4.5   \n",
       "7194   111322112   1.99                15                 0          4.5   \n",
       "7195    97235968   0.00                85                32          4.5   \n",
       "7196    90898432   0.00                 3                 3          5.0   \n",
       "\n",
       "      user_rating_ver        prime_genre  \n",
       "0                 4.5              Games  \n",
       "1                 3.5       Productivity  \n",
       "2                 4.5            Weather  \n",
       "3                 4.5           Shopping  \n",
       "4                 5.0          Reference  \n",
       "5                 4.0              Games  \n",
       "6                 4.5            Finance  \n",
       "7                 4.5              Music  \n",
       "8                 5.0          Utilities  \n",
       "9                 4.0              Games  \n",
       "10                4.5              Games  \n",
       "11                2.5              Games  \n",
       "12                4.0          Utilities  \n",
       "13                4.5            Finance  \n",
       "14                4.5              Games  \n",
       "15                3.5             Travel  \n",
       "16                3.5  Social Networking  \n",
       "17                4.5             Travel  \n",
       "18                4.5              Music  \n",
       "19                3.5              Games  \n",
       "20                4.5          Reference  \n",
       "21                5.0              Games  \n",
       "22                4.5             Sports  \n",
       "23                0.0           Business  \n",
       "24                4.0              Music  \n",
       "25                4.0   Health & Fitness  \n",
       "26                3.5              Games  \n",
       "27                5.0       Productivity  \n",
       "28                3.5              Music  \n",
       "29                4.5            Weather  \n",
       "...               ...                ...  \n",
       "7167              1.0              Games  \n",
       "7168              4.0              Games  \n",
       "7169              3.5      Entertainment  \n",
       "7170              5.0  Social Networking  \n",
       "7171              5.0              Games  \n",
       "7172              4.5              Games  \n",
       "7173              0.0          Utilities  \n",
       "7174              3.5              Games  \n",
       "7175              4.5              Games  \n",
       "7176              0.0              Games  \n",
       "7177              4.0              Games  \n",
       "7178              0.0              Games  \n",
       "7179              3.0  Social Networking  \n",
       "7180              5.0          Utilities  \n",
       "7181              0.0              Games  \n",
       "7182              0.0      Photo & Video  \n",
       "7183              4.0              Games  \n",
       "7184              0.0              Games  \n",
       "7185              0.0              Games  \n",
       "7186              2.0              Games  \n",
       "7187              4.5              Games  \n",
       "7188              4.0              Games  \n",
       "7189              0.0              Games  \n",
       "7190              3.0              Games  \n",
       "7191              0.0              Games  \n",
       "7192              4.5              Games  \n",
       "7193              4.5              Games  \n",
       "7194              0.0          Utilities  \n",
       "7195              4.5              Games  \n",
       "7196              5.0              Games  \n",
       "\n",
       "[7197 rows x 9 columns]>"
      ]
     },
     "execution_count": 41,
     "metadata": {},
     "output_type": "execute_result"
    }
   ],
   "source": [
    "data.info"
   ]
  },
  {
   "cell_type": "markdown",
   "metadata": {},
   "source": [
    "### 6. Print the number of columns in the data."
   ]
  },
  {
   "cell_type": "code",
   "execution_count": 42,
   "metadata": {},
   "outputs": [
    {
     "data": {
      "text/plain": [
       "9"
      ]
     },
     "execution_count": 42,
     "metadata": {},
     "output_type": "execute_result"
    }
   ],
   "source": [
    "len(data.columns)"
   ]
  },
  {
   "cell_type": "markdown",
   "metadata": {},
   "source": [
    "### 7. Print all column names."
   ]
  },
  {
   "cell_type": "code",
   "execution_count": 43,
   "metadata": {},
   "outputs": [
    {
     "data": {
      "text/plain": [
       "Index(['id', 'track_name', 'size_bytes', 'price', 'rating_count_tot',\n",
       "       'rating_count_ver', 'user_rating', 'user_rating_ver', 'prime_genre'],\n",
       "      dtype='object')"
      ]
     },
     "execution_count": 43,
     "metadata": {},
     "output_type": "execute_result"
    }
   ],
   "source": [
    "data.columns"
   ]
  },
  {
   "cell_type": "markdown",
   "metadata": {},
   "source": [
    "## Now that we have a general understanding of the data, we'll start working on the challenge questions.\n",
    "\n",
    "### 8. How many apps are there in the data source? \n",
    "\n",
    "Print the # of observations of the data.\n",
    "\n",
    "*Hint: Your code should return the number 7197.*"
   ]
  },
  {
   "cell_type": "code",
   "execution_count": 44,
   "metadata": {},
   "outputs": [
    {
     "data": {
      "text/plain": [
       "7197"
      ]
     },
     "execution_count": 44,
     "metadata": {},
     "output_type": "execute_result"
    }
   ],
   "source": [
    "len(data.index)"
   ]
  },
  {
   "cell_type": "markdown",
   "metadata": {},
   "source": [
    "### 9. What is the average rating of all apps? \n",
    "\n",
    "First, read the `user_rating` column into a varialbe named `user_rating`."
   ]
  },
  {
   "cell_type": "code",
   "execution_count": 48,
   "metadata": {},
   "outputs": [],
   "source": [
    "user_rating = data['user_rating']"
   ]
  },
  {
   "cell_type": "markdown",
   "metadata": {},
   "source": [
    "Now you can calculate the average of the `user_rating` data.\n",
    "\n",
    "Your code should return 3.526955675976101"
   ]
  },
  {
   "cell_type": "code",
   "execution_count": 49,
   "metadata": {},
   "outputs": [
    {
     "data": {
      "text/plain": [
       "3.526955675976101"
      ]
     },
     "execution_count": 49,
     "metadata": {},
     "output_type": "execute_result"
    }
   ],
   "source": [
    "user_rating.mean()"
   ]
  },
  {
   "cell_type": "markdown",
   "metadata": {},
   "source": [
    "### 10. How many apps have an average rating no less than 4?\n",
    "\n",
    "First, filter `user_rating` where its value >= 4. \n",
    "\n",
    "Assign the filtered dataframe to a new variable called `user_rating_high`."
   ]
  },
  {
   "cell_type": "code",
   "execution_count": 56,
   "metadata": {},
   "outputs": [],
   "source": [
    "user_rating_high = data[data['user_rating']>=4]"
   ]
  },
  {
   "cell_type": "markdown",
   "metadata": {},
   "source": [
    "Now obtain the length of `user_rating_high` which should return 4781."
   ]
  },
  {
   "cell_type": "code",
   "execution_count": 57,
   "metadata": {},
   "outputs": [
    {
     "data": {
      "text/plain": [
       "4781"
      ]
     },
     "execution_count": 57,
     "metadata": {},
     "output_type": "execute_result"
    }
   ],
   "source": [
    "len(user_rating_high)"
   ]
  },
  {
   "cell_type": "markdown",
   "metadata": {},
   "source": [
    "### 11. How many genres are there in total for all the apps?\n",
    "\n",
    "Define a new variable named `genres` that contains the `prime_genre` column of `data`. Google for how to obtain unique values of a dataframe column. "
   ]
  },
  {
   "cell_type": "code",
   "execution_count": 65,
   "metadata": {},
   "outputs": [
    {
     "data": {
      "text/plain": [
       "array(['Games', 'Productivity', 'Weather', 'Shopping', 'Reference',\n",
       "       'Finance', 'Music', 'Utilities', 'Travel', 'Social Networking',\n",
       "       'Sports', 'Business', 'Health & Fitness', 'Entertainment',\n",
       "       'Photo & Video', 'Navigation', 'Education', 'Lifestyle',\n",
       "       'Food & Drink', 'News', 'Book', 'Medical', 'Catalogs'],\n",
       "      dtype=object)"
      ]
     },
     "execution_count": 65,
     "metadata": {},
     "output_type": "execute_result"
    }
   ],
   "source": [
    "genres = data['prime_genre'].unique()\n",
    "genres"
   ]
  },
  {
   "cell_type": "markdown",
   "metadata": {},
   "source": [
    "Print the length of the unique values of `genres`. Your code should return 23."
   ]
  },
  {
   "cell_type": "code",
   "execution_count": 66,
   "metadata": {},
   "outputs": [
    {
     "data": {
      "text/plain": [
       "23"
      ]
     },
     "execution_count": 66,
     "metadata": {},
     "output_type": "execute_result"
    }
   ],
   "source": [
    "len(genres)"
   ]
  },
  {
   "cell_type": "markdown",
   "metadata": {},
   "source": [
    "### 12. What are the top 3 genres that have the most number of apps?\n",
    "\n",
    "What you want to do is to count the number of occurrences of each unique genre values. Because you already know how to obtain the unique genre values, you can of course count the # of apps of each genre one by one. However, Pandas has a convient function to let you count all values of a dataframe column with a single command. Google for \"pandas count values\" to find the solution. Your code should return the following:\n",
    "\n",
    "```\n",
    "Games            3862\n",
    "Entertainment     535\n",
    "Education         453\n",
    "Name: prime_genre, dtype: int64\n",
    "```"
   ]
  },
  {
   "cell_type": "code",
   "execution_count": 70,
   "metadata": {},
   "outputs": [
    {
     "data": {
      "text/plain": [
       "Games            3862\n",
       "Entertainment     535\n",
       "Education         453\n",
       "Name: prime_genre, dtype: int64"
      ]
     },
     "execution_count": 70,
     "metadata": {},
     "output_type": "execute_result"
    }
   ],
   "source": [
    "data['prime_genre'].value_counts().head(3)"
   ]
  },
  {
   "cell_type": "markdown",
   "metadata": {},
   "source": [
    "### 13. Which genre is most likely to contain free apps?\n",
    "\n",
    "First, filter `data` where the price is 0.00. Assign the filtered data to a new variable called `free_apps`. Then count the values in `free_apps`. Your code should return:\n",
    "\n",
    "```\n",
    "Games                2257\n",
    "Entertainment         334\n",
    "Photo & Video         167\n",
    "Social Networking     143\n",
    "Education             132\n",
    "Shopping              121\n",
    "Utilities             109\n",
    "Lifestyle              94\n",
    "Finance                84\n",
    "Sports                 79\n",
    "Health & Fitness       76\n",
    "Music                  67\n",
    "Book                   66\n",
    "Productivity           62\n",
    "News                   58\n",
    "Travel                 56\n",
    "Food & Drink           43\n",
    "Weather                31\n",
    "Navigation             20\n",
    "Reference              20\n",
    "Business               20\n",
    "Catalogs                9\n",
    "Medical                 8\n",
    "Name: prime_genre, dtype: int64\n",
    "```"
   ]
  },
  {
   "cell_type": "code",
   "execution_count": 89,
   "metadata": {},
   "outputs": [
    {
     "data": {
      "text/plain": [
       "Games                2257\n",
       "Entertainment         334\n",
       "Photo & Video         167\n",
       "Social Networking     143\n",
       "Education             132\n",
       "Shopping              121\n",
       "Utilities             109\n",
       "Lifestyle              94\n",
       "Finance                84\n",
       "Sports                 79\n",
       "Health & Fitness       76\n",
       "Music                  67\n",
       "Book                   66\n",
       "Productivity           62\n",
       "News                   58\n",
       "Travel                 56\n",
       "Food & Drink           43\n",
       "Weather                31\n",
       "Reference              20\n",
       "Navigation             20\n",
       "Business               20\n",
       "Catalogs                9\n",
       "Medical                 8\n",
       "Name: prime_genre, dtype: int64"
      ]
     },
     "execution_count": 89,
     "metadata": {},
     "output_type": "execute_result"
    }
   ],
   "source": [
    "free_apps = data[data['price']==0.00]\n",
    "free_apps['prime_genre'].value_counts()"
   ]
  },
  {
   "cell_type": "markdown",
   "metadata": {},
   "source": [
    "### 14. Now you can calculate the proportion of the free apps in each genre based on the value counts you obtained in the previous two steps. \n",
    "\n",
    "Challenge yourself by achieving that with one line of code. The output should look like:\n",
    "\n",
    "```\n",
    "Shopping             0.991803\n",
    "Catalogs             0.900000\n",
    "Social Networking    0.856287\n",
    "Finance              0.807692\n",
    "News                 0.773333\n",
    "Sports               0.692982\n",
    "Travel               0.691358\n",
    "Food & Drink         0.682540\n",
    "Lifestyle            0.652778\n",
    "Entertainment        0.624299\n",
    "Book                 0.589286\n",
    "Games                0.584412\n",
    "Music                0.485507\n",
    "Photo & Video        0.478510\n",
    "Utilities            0.439516\n",
    "Navigation           0.434783\n",
    "Weather              0.430556\n",
    "Health & Fitness     0.422222\n",
    "Business             0.350877\n",
    "Productivity         0.348315\n",
    "Medical              0.347826\n",
    "Reference            0.312500\n",
    "Education            0.291391\n",
    "Name: prime_genre, dtype: float64\n",
    "```\n",
    "\n",
    "The numbers are interesting, aren't they?"
   ]
  },
  {
   "cell_type": "code",
   "execution_count": null,
   "metadata": {},
   "outputs": [],
   "source": []
  },
  {
   "cell_type": "markdown",
   "metadata": {},
   "source": [
    "### 15. If a developer tries to make money by developing and selling Apple Store apps, in which genre should s/he develop the apps? Please assume all apps cost the same amount of time and expense to develop.\n",
    "\n",
    "We will leave this question to you. There are several way to solve it. Ideally your output should look like below:\n",
    "\n",
    "```\n",
    "    average_price              genre\n",
    "21       8.776087            Medical\n",
    "11       5.116316           Business\n",
    "4        4.836875          Reference\n",
    "6        4.835435              Music\n",
    "1        4.330562       Productivity\n",
    "15       4.124783         Navigation\n",
    "16       4.028234          Education\n",
    "12       1.916444   Health & Fitness\n",
    "20       1.790536               Book\n",
    "7        1.647621          Utilities\n",
    "2        1.605417            Weather\n",
    "18       1.552381       Food & Drink\n",
    "14       1.473295      Photo & Video\n",
    "0        1.432923              Games\n",
    "8        1.120370             Travel\n",
    "10       0.953070             Sports\n",
    "13       0.889701      Entertainment\n",
    "17       0.885417          Lifestyle\n",
    "22       0.799000           Catalogs\n",
    "19       0.517733               News\n",
    "5        0.421154            Finance\n",
    "9        0.339880  Social Networking\n",
    "3        0.016311           Shopping\n",
    "```"
   ]
  },
  {
   "cell_type": "code",
   "execution_count": null,
   "metadata": {},
   "outputs": [],
   "source": []
  }
 ],
 "metadata": {
  "kernelspec": {
   "display_name": "Python 3",
   "language": "python",
   "name": "python3"
  },
  "language_info": {
   "codemirror_mode": {
    "name": "ipython",
    "version": 3
   },
   "file_extension": ".py",
   "mimetype": "text/x-python",
   "name": "python",
   "nbconvert_exporter": "python",
   "pygments_lexer": "ipython3",
   "version": "3.7.1"
  }
 },
 "nbformat": 4,
 "nbformat_minor": 2
}
